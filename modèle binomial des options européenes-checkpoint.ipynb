{
 "cells": [
  {
   "cell_type": "markdown",
   "id": "6b95f100",
   "metadata": {},
   "source": [
    "# Modèle Binomial "
   ]
  },
  {
   "cell_type": "markdown",
   "id": "de4782c1",
   "metadata": {},
   "source": [
    "importer la librairie numpy"
   ]
  },
  {
   "cell_type": "code",
   "execution_count": 4,
   "id": "796b50ca",
   "metadata": {},
   "outputs": [],
   "source": [
    "import numpy as np"
   ]
  },
  {
   "cell_type": "markdown",
   "id": "3480b329",
   "metadata": {},
   "source": [
    "on peut representer l'arbre de stock dans chaque noeud (i, j), en effet :\n",
    "S(i,j) = (S(0)) * (u ** (j)) * d ** (i-j)"
   ]
  },
  {
   "cell_type": "code",
   "execution_count": 9,
   "id": "85ff3edc",
   "metadata": {},
   "outputs": [],
   "source": [
    "S0 = 100\n",
    "K = 100\n",
    "T = 1\n",
    "r = 0.06\n",
    "N = 3\n",
    "u = 1.1\n",
    "d = 1/u\n",
    "opttype = 'C' # C for call and P for put"
   ]
  },
  {
   "cell_type": "markdown",
   "id": "3d8d36e5",
   "metadata": {},
   "source": [
    "içi on va definir une fonction qui va nous retourner le pricing de l'option à t=0 càd Aujourd'hui, et on va utiliser le broadcasting pour améliorer la compléxité de l'algo."
   ]
  },
  {
   "cell_type": "code",
   "execution_count": 29,
   "id": "0ba18fa3",
   "metadata": {},
   "outputs": [],
   "source": [
    "def binomial_tree(K, T, S0, r, N, u, d, opptype='C'):\n",
    "    \n",
    "    #calculer les constants\n",
    "    dt = T/N\n",
    "    q = (np.exp(r*dt) - d) / (u-d)\n",
    "    disc = np.exp(-r*dt)\n",
    "    \n",
    "    #initialiser les prix à la maturité (étape N)\n",
    "    \n",
    "    C = S0 * d ** (np.arange(N,-1,-1)) * u ** (np.arange(0,N+1,1))\n",
    "    \n",
    "    #initialiser les valeurs des options à la maturité \n",
    "    \n",
    "    if opptype == 'C' :\n",
    "        C = np.maximum(C-K, np.zeros(N+1))\n",
    "    else :\n",
    "        C = np.maximum(K-C, np.zeros(N+1))\n",
    "    \n",
    "    # retourner en arrière dans l'arbre \n",
    "    \n",
    "    for i in np.arange(N, 0, -1):\n",
    "        C = disc * (q * C[1:i+1] + (1-q) * C[0:i])\n",
    "        \n",
    "    return C[0]\n"
   ]
  },
  {
   "cell_type": "code",
   "execution_count": 31,
   "id": "15fd49e1",
   "metadata": {},
   "outputs": [
    {
     "data": {
      "text/plain": [
       "10.145735799928826"
      ]
     },
     "execution_count": 31,
     "metadata": {},
     "output_type": "execute_result"
    }
   ],
   "source": [
    "binomial_tree(K, T, S0, r, N, u, d, opptype='C')"
   ]
  },
  {
   "cell_type": "code",
   "execution_count": null,
   "id": "15c21875",
   "metadata": {},
   "outputs": [],
   "source": []
  }
 ],
 "metadata": {
  "kernelspec": {
   "display_name": "Python 3 (ipykernel)",
   "language": "python",
   "name": "python3"
  },
  "language_info": {
   "codemirror_mode": {
    "name": "ipython",
    "version": 3
   },
   "file_extension": ".py",
   "mimetype": "text/x-python",
   "name": "python",
   "nbconvert_exporter": "python",
   "pygments_lexer": "ipython3",
   "version": "3.9.13"
  }
 },
 "nbformat": 4,
 "nbformat_minor": 5
}
